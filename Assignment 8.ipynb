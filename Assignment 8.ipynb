{
 "cells": [
  {
   "cell_type": "code",
   "execution_count": 7,
   "id": "48d8c56a",
   "metadata": {},
   "outputs": [
    {
     "data": {
      "text/html": [
       "<div>\n",
       "<style scoped>\n",
       "    .dataframe tbody tr th:only-of-type {\n",
       "        vertical-align: middle;\n",
       "    }\n",
       "\n",
       "    .dataframe tbody tr th {\n",
       "        vertical-align: top;\n",
       "    }\n",
       "\n",
       "    .dataframe thead th {\n",
       "        text-align: right;\n",
       "    }\n",
       "</style>\n",
       "<table border=\"1\" class=\"dataframe\">\n",
       "  <thead>\n",
       "    <tr style=\"text-align: right;\">\n",
       "      <th></th>\n",
       "      <th>Names</th>\n",
       "      <th>Max_Temp</th>\n",
       "      <th>Min_Temp</th>\n",
       "      <th>Humidity</th>\n",
       "      <th>WindSpeed</th>\n",
       "    </tr>\n",
       "  </thead>\n",
       "  <tbody>\n",
       "    <tr>\n",
       "      <th>0</th>\n",
       "      <td>Jamaica</td>\n",
       "      <td>24.61</td>\n",
       "      <td>24.56</td>\n",
       "      <td>86</td>\n",
       "      <td>2.21</td>\n",
       "    </tr>\n",
       "    <tr>\n",
       "      <th>1</th>\n",
       "      <td>Indonesia</td>\n",
       "      <td>22.41</td>\n",
       "      <td>22.41</td>\n",
       "      <td>56</td>\n",
       "      <td>1.55</td>\n",
       "    </tr>\n",
       "    <tr>\n",
       "      <th>2</th>\n",
       "      <td>United States of America</td>\n",
       "      <td>14.70</td>\n",
       "      <td>14.70</td>\n",
       "      <td>50</td>\n",
       "      <td>2.53</td>\n",
       "    </tr>\n",
       "    <tr>\n",
       "      <th>3</th>\n",
       "      <td>Turkey</td>\n",
       "      <td>20.40</td>\n",
       "      <td>20.40</td>\n",
       "      <td>32</td>\n",
       "      <td>3.47</td>\n",
       "    </tr>\n",
       "    <tr>\n",
       "      <th>4</th>\n",
       "      <td>Saudi Arabia</td>\n",
       "      <td>31.19</td>\n",
       "      <td>31.19</td>\n",
       "      <td>13</td>\n",
       "      <td>3.39</td>\n",
       "    </tr>\n",
       "  </tbody>\n",
       "</table>\n",
       "</div>"
      ],
      "text/plain": [
       "                      Names  Max_Temp  Min_Temp  Humidity  WindSpeed\n",
       "0                   Jamaica     24.61     24.56        86       2.21\n",
       "1                 Indonesia     22.41     22.41        56       1.55\n",
       "2  United States of America     14.70     14.70        50       2.53\n",
       "3                    Turkey     20.40     20.40        32       3.47\n",
       "4              Saudi Arabia     31.19     31.19        13       3.39"
      ]
     },
     "execution_count": 7,
     "metadata": {},
     "output_type": "execute_result"
    }
   ],
   "source": [
    "import requests \n",
    "import pandas as pd \n",
    "import json\n",
    "import matplotlib.pyplot as plt\n",
    "import seaborn as sns\n",
    "\n",
    "API_key = 'Put your api key here'\n",
    "\n",
    "countries = ['Jamaica', 'Indonesia', 'United States',  \"Turkey\", 'Saudi Arabia' , \"Egypt\", 'China']\n",
    "\n",
    "country_name_list = []\n",
    "maxtemp = []\n",
    "mintemp = []\n",
    "humidity = []\n",
    "windspeed = []\n",
    "\n",
    "for country_names in countries:\n",
    "\n",
    "    url = f'http://api.openweathermap.org/data/2.5/weather?q={country_names}&APPID={API_key}&units=metric'\n",
    "    \n",
    "    r = requests.get(url)\n",
    "        \n",
    "    data = r.json()\n",
    "        \n",
    "    formatted_json = json.dumps(data, sort_keys = True, indent = 4)\n",
    "    \n",
    "#     print(data)\n",
    "    country_name_list.append(data['name'])\n",
    "    maxtemp.append(data['main']['temp_max'])\n",
    "    mintemp.append(data['main']['temp_min'])\n",
    "    humidity.append(data['main']['humidity'])\n",
    "    windspeed.append(data['wind']['speed'])\n",
    "            \n",
    "\n",
    "df = pd.DataFrame()\n",
    "df['Names'] = country_name_list\n",
    "df['Max_Temp'] = maxtemp\n",
    "df['Min_Temp'] = mintemp\n",
    "df['Humidity'] = humidity\n",
    "df['WindSpeed'] = windspeed\n",
    "\n",
    "df.head()    "
   ]
  },
  {
   "cell_type": "code",
   "execution_count": 8,
   "id": "02c9241a",
   "metadata": {},
   "outputs": [
    {
     "data": {
      "text/plain": [
       "Names        0\n",
       "Max_Temp     0\n",
       "Min_Temp     0\n",
       "Humidity     0\n",
       "WindSpeed    0\n",
       "dtype: int64"
      ]
     },
     "execution_count": 8,
     "metadata": {},
     "output_type": "execute_result"
    }
   ],
   "source": [
    "df.isna().sum()"
   ]
  },
  {
   "cell_type": "code",
   "execution_count": 9,
   "id": "786dd40c",
   "metadata": {},
   "outputs": [
    {
     "data": {
      "text/plain": [
       "0"
      ]
     },
     "execution_count": 9,
     "metadata": {},
     "output_type": "execute_result"
    }
   ],
   "source": [
    "df.duplicated().sum()"
   ]
  },
  {
   "cell_type": "code",
   "execution_count": 10,
   "id": "0c5830d4",
   "metadata": {},
   "outputs": [
    {
     "data": {
      "text/html": [
       "<div>\n",
       "<style scoped>\n",
       "    .dataframe tbody tr th:only-of-type {\n",
       "        vertical-align: middle;\n",
       "    }\n",
       "\n",
       "    .dataframe tbody tr th {\n",
       "        vertical-align: top;\n",
       "    }\n",
       "\n",
       "    .dataframe thead th {\n",
       "        text-align: right;\n",
       "    }\n",
       "</style>\n",
       "<table border=\"1\" class=\"dataframe\">\n",
       "  <thead>\n",
       "    <tr style=\"text-align: right;\">\n",
       "      <th></th>\n",
       "      <th>Max_Temp</th>\n",
       "      <th>Min_Temp</th>\n",
       "      <th>Humidity</th>\n",
       "      <th>WindSpeed</th>\n",
       "    </tr>\n",
       "  </thead>\n",
       "  <tbody>\n",
       "    <tr>\n",
       "      <th>count</th>\n",
       "      <td>7.000000</td>\n",
       "      <td>7.000000</td>\n",
       "      <td>7.000000</td>\n",
       "      <td>7.000000</td>\n",
       "    </tr>\n",
       "    <tr>\n",
       "      <th>mean</th>\n",
       "      <td>21.978571</td>\n",
       "      <td>21.624286</td>\n",
       "      <td>54.428571</td>\n",
       "      <td>2.548571</td>\n",
       "    </tr>\n",
       "    <tr>\n",
       "      <th>std</th>\n",
       "      <td>5.638657</td>\n",
       "      <td>6.122088</td>\n",
       "      <td>27.397428</td>\n",
       "      <td>0.991807</td>\n",
       "    </tr>\n",
       "    <tr>\n",
       "      <th>min</th>\n",
       "      <td>14.700000</td>\n",
       "      <td>13.510000</td>\n",
       "      <td>13.000000</td>\n",
       "      <td>1.090000</td>\n",
       "    </tr>\n",
       "    <tr>\n",
       "      <th>25%</th>\n",
       "      <td>18.170000</td>\n",
       "      <td>17.550000</td>\n",
       "      <td>41.000000</td>\n",
       "      <td>1.880000</td>\n",
       "    </tr>\n",
       "    <tr>\n",
       "      <th>50%</th>\n",
       "      <td>22.410000</td>\n",
       "      <td>22.410000</td>\n",
       "      <td>54.000000</td>\n",
       "      <td>2.530000</td>\n",
       "    </tr>\n",
       "    <tr>\n",
       "      <th>75%</th>\n",
       "      <td>24.605000</td>\n",
       "      <td>24.580000</td>\n",
       "      <td>71.000000</td>\n",
       "      <td>3.430000</td>\n",
       "    </tr>\n",
       "    <tr>\n",
       "      <th>max</th>\n",
       "      <td>31.190000</td>\n",
       "      <td>31.190000</td>\n",
       "      <td>90.000000</td>\n",
       "      <td>3.600000</td>\n",
       "    </tr>\n",
       "  </tbody>\n",
       "</table>\n",
       "</div>"
      ],
      "text/plain": [
       "        Max_Temp   Min_Temp   Humidity  WindSpeed\n",
       "count   7.000000   7.000000   7.000000   7.000000\n",
       "mean   21.978571  21.624286  54.428571   2.548571\n",
       "std     5.638657   6.122088  27.397428   0.991807\n",
       "min    14.700000  13.510000  13.000000   1.090000\n",
       "25%    18.170000  17.550000  41.000000   1.880000\n",
       "50%    22.410000  22.410000  54.000000   2.530000\n",
       "75%    24.605000  24.580000  71.000000   3.430000\n",
       "max    31.190000  31.190000  90.000000   3.600000"
      ]
     },
     "execution_count": 10,
     "metadata": {},
     "output_type": "execute_result"
    }
   ],
   "source": [
    "df.describe()"
   ]
  },
  {
   "cell_type": "code",
   "execution_count": 11,
   "id": "089b11aa",
   "metadata": {},
   "outputs": [
    {
     "name": "stdout",
     "output_type": "stream",
     "text": [
      "<class 'pandas.core.frame.DataFrame'>\n",
      "RangeIndex: 7 entries, 0 to 6\n",
      "Data columns (total 5 columns):\n",
      " #   Column     Non-Null Count  Dtype  \n",
      "---  ------     --------------  -----  \n",
      " 0   Names      7 non-null      object \n",
      " 1   Max_Temp   7 non-null      float64\n",
      " 2   Min_Temp   7 non-null      float64\n",
      " 3   Humidity   7 non-null      int64  \n",
      " 4   WindSpeed  7 non-null      float64\n",
      "dtypes: float64(3), int64(1), object(1)\n",
      "memory usage: 408.0+ bytes\n"
     ]
    }
   ],
   "source": [
    "df.info()"
   ]
  },
  {
   "cell_type": "code",
   "execution_count": 12,
   "id": "72c3e5e6",
   "metadata": {},
   "outputs": [
    {
     "data": {
      "image/png": "[encoded data removed]",
      "text/plain": [
       "<Figure size 1200x600 with 1 Axes>"
      ]
     },
     "metadata": {},
     "output_type": "display_data"
    }
   ],
   "source": [
    "plt.figure(figsize=(12,6))\n",
    "plt.bar(df['Names'], df['Max_Temp'], color='crimson')\n",
    "plt.title(\"Max Temperature in different countries\")\n",
    "plt.ylabel(\"Temperature\")\n",
    "plt.show()"
   ]
  },
  {
   "cell_type": "code",
   "execution_count": 13,
   "id": "7d1122bb",
   "metadata": {},
   "outputs": [
    {
     "data": {
      "image/png": "[encoded data removed]",
      "text/plain": [
       "<Figure size 1200x600 with 1 Axes>"
      ]
     },
     "metadata": {},
     "output_type": "display_data"
    }
   ],
   "source": [
    "plt.figure(figsize=(12,6))\n",
    "plt.bar(df['Names'], df['Min_Temp'], color='skyblue')\n",
    "plt.title(\"Min Temperature in different countries\")\n",
    "plt.ylabel(\"Temperature\")\n",
    "plt.show()"
   ]
  },
  {
   "cell_type": "code",
   "execution_count": 14,
   "id": "d72c2091",
   "metadata": {},
   "outputs": [
    {
     "data": {
      "image/png": "[encoded data removed]",
      "text/plain": [
       "<Figure size 640x480 with 2 Axes>"
      ]
     },
     "metadata": {},
     "output_type": "display_data"
    }
   ],
   "source": [
    "corre = df[['Min_Temp','Humidity']].corr()\n",
    "sns.heatmap(corre, annot=True)\n",
    "plt.title(\"Temperature to Humidity relationship\")\n",
    "plt.show()"
   ]
  },
  {
   "cell_type": "code",
   "execution_count": null,
   "id": "1a64da43",
   "metadata": {},
   "outputs": [],
   "source": []
  },
  {
   "cell_type": "code",
   "execution_count": null,
   "id": "55097846",
   "metadata": {},
   "outputs": [],
   "source": []
  },
  {
   "cell_type": "code",
   "execution_count": null,
   "id": "4890e488",
   "metadata": {},
   "outputs": [],
   "source": []
  },
  {
   "cell_type": "code",
   "execution_count": null,
   "id": "155577fe",
   "metadata": {},
   "outputs": [],
   "source": []
  },
  {
   "cell_type": "code",
   "execution_count": null,
   "id": "fdaa4f99",
   "metadata": {},
   "outputs": [],
   "source": []
  }
 ],
 "metadata": {
  "kernelspec": {
   "display_name": "Python 3 (ipykernel)",
   "language": "python",
   "name": "python3"
  },
  "language_info": {
   "codemirror_mode": {
    "name": "ipython",
    "version": 3
   },
   "file_extension": ".py",
   "mimetype": "text/x-python",
   "name": "python",
   "nbconvert_exporter": "python",
   "pygments_lexer": "ipython3",
   "version": "3.11.1"
  }
 },
 "nbformat": 4,
 "nbformat_minor": 5
}
